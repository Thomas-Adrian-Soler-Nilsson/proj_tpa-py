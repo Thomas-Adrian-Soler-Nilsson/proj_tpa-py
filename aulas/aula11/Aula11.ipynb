{
 "cells": [
  {
   "cell_type": "markdown",
   "metadata": {},
   "source": [
    "# Aula 11 - Exercício Mercado"
   ]
  },
  {
   "cell_type": "code",
   "execution_count": 38,
   "metadata": {},
   "outputs": [],
   "source": [
    "class Preferencial:\n",
    "    def __init__(self):\n",
    "        self.preferencial = []\n",
    "\n",
    "    def enfileirar(self, nome):\n",
    "        self.preferencial.append(nome)\n",
    "        print(f\"{nome} chegou no caixa preferencial\")\n",
    "\n",
    "    def vazio(self):\n",
    "        return len(self.preferencial) == 0\n",
    "\n",
    "    def atender(self):\n",
    "        if not self.vazio():\n",
    "            nome = self.preferencial.pop(0)\n",
    "            print(f\"{nome} foi atendido no caixa preferencial\")\n",
    "            return nome\n",
    "        else:\n",
    "            print(\"Não há clientes na fila preferencial\")\n",
    "            return None\n",
    "    \n",
    "    def tamanho(self):\n",
    "        if len(self.preferencial)==0:\n",
    "            print(\"O caixa preferencial está livre\")\n",
    "        else:\n",
    "            print(f\"Tem {len(self.preferencial)} pessoas na fila preferencial\")\n",
    "         \n",
    "         "
   ]
  },
  {
   "cell_type": "code",
   "execution_count": 39,
   "metadata": {},
   "outputs": [],
   "source": [
    "class Rapido:\n",
    "    def __init__(self):\n",
    "        self.rapido = []\n",
    "\n",
    "    def enfileirar(self, nome):\n",
    "        self.rapido.append(nome)\n",
    "        print(f\"{nome} chegou no caixa rápido\")\n",
    "\n",
    "    def vazio(self):\n",
    "        return len(self.rapido) == 0\n",
    "\n",
    "    def atender(self):\n",
    "        if not self.vazio():\n",
    "            nome = self.rapido.pop(0)\n",
    "            print(f\"{nome} foi atendido no caixa rápido\")\n",
    "            return nome\n",
    "        else:\n",
    "            print(\"Não há clientes na fila rápido\")\n",
    "            return None\n",
    "    \n",
    "    def tamanho(self):\n",
    "        if len(self.rapido)==0:\n",
    "            print(\"O caixa rápido está livre\")\n",
    "        else:\n",
    "            print(f\"Tem {len(self.rapido)} pessoas na fila rápida\")\n",
    "         "
   ]
  },
  {
   "cell_type": "code",
   "execution_count": 43,
   "metadata": {},
   "outputs": [],
   "source": [
    "class Normal:\n",
    "    def __init__(self):\n",
    "        self.normal = []\n",
    "\n",
    "    def enfileirar(self, nome):\n",
    "        self.normal.append(nome)\n",
    "        print(f\"{nome} chegou no caixa padrão\")\n",
    "\n",
    "    def vazio(self):\n",
    "        return len(self.normal) == 0\n",
    "\n",
    "    def atender(self):\n",
    "        if not self.vazio():\n",
    "            nome = self.normal.pop(0)\n",
    "            print(f\"{nome} foi atendido no caixa padrão\")\n",
    "            return nome\n",
    "        else:\n",
    "            print(\"Não há clientes na fila padrão\")\n",
    "            return None\n",
    "    \n",
    "    def tamanho(self):\n",
    "        if len(self.normal)==0:\n",
    "            print(\"O caixa rápido está livre\")\n",
    "        else:\n",
    "            print(f\"Tem {len(self.normal)} pessoas na fila rápida\")\n",
    "         "
   ]
  },
  {
   "cell_type": "code",
   "execution_count": 44,
   "metadata": {},
   "outputs": [],
   "source": [
    "class Escolher:\n",
    "    def __init__(self):\n",
    "        self.preferencial = Preferencial()\n",
    "        self.rapido = Rapido()\n",
    "        self.normal = Normal()\n",
    "\n",
    "    def escolhe(self, nome, idade, unidades):\n",
    "        if (idade >= 60):\n",
    "            self.preferencial.enfileirar(nome)\n",
    "        elif unidades <= 20:\n",
    "            self.rapido.enfileirar(nome)\n",
    "        else:\n",
    "            self.normal.enfileirar(nome)"
   ]
  },
  {
   "cell_type": "code",
   "execution_count": 47,
   "metadata": {},
   "outputs": [
    {
     "name": "stdout",
     "output_type": "stream",
     "text": [
      "Pedro chegou no caixa rápido\n",
      "Carlos chegou no caixa preferencial\n",
      "Ana chegou no caixa padrão\n",
      "João chegou no caixa padrão\n",
      "Carla chegou no caixa rápido\n",
      "Vanessa chegou no caixa preferencial\n",
      "Giovanny chegou no caixa padrão\n",
      "Giovana chegou no caixa padrão\n",
      "Leandro chegou no caixa preferencial\n",
      "Goku chegou no caixa rápido\n",
      "O caixa rápido está livre\n",
      "O caixa preferencial está livre\n",
      "O caixa rápido está livre\n",
      "Não há clientes na fila padrão\n"
     ]
    }
   ],
   "source": [
    "escolher = Escolher()\n",
    "rapido = Rapido()\n",
    "normal = Normal()\n",
    "preferencial = Preferencial()\n",
    "escolher.escolhe(\"Pedro\", 30, 15)\n",
    "escolher.escolhe(\"Carlos\", 80, 15)\n",
    "escolher.escolhe(\"Ana\", 27, 30)\n",
    "escolher.escolhe(\"João\", 19, 50)\n",
    "escolher.escolhe(\"Carla\", 29, 9)\n",
    "escolher.escolhe(\"Vanessa\", 63, 32)\n",
    "escolher.escolhe(\"Giovanny\", 21, 24)\n",
    "escolher.escolhe(\"Giovana\", 27, 30)\n",
    "escolher.escolhe(\"Leandro\", 72, 9)\n",
    "escolher.escolhe(\"Goku\", 15, 11)\n",
    "normal.tamanho()\n",
    "preferencial.tamanho()\n",
    "rapido.tamanho()\n",
    "normal.atender()\n",
    "\n"
   ]
  }
 ],
 "metadata": {
  "kernelspec": {
   "display_name": "Python 3",
   "language": "python",
   "name": "python3"
  },
  "language_info": {
   "codemirror_mode": {
    "name": "ipython",
    "version": 3
   },
   "file_extension": ".py",
   "mimetype": "text/x-python",
   "name": "python",
   "nbconvert_exporter": "python",
   "pygments_lexer": "ipython3",
   "version": "3.12.2"
  }
 },
 "nbformat": 4,
 "nbformat_minor": 2
}
